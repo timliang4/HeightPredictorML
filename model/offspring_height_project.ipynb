{
 "cells": [
  {
   "cell_type": "markdown",
   "id": "0824eaf5-9683-44d4-95d3-786107e27c28",
   "metadata": {},
   "source": [
    "# Offspring Height Model\n",
    "\n",
    "> Leveraging Python data manipulation and modeling libraries to develop a Offspring Height Prediction model from the Galton Dataset.\n",
    "\n",
    "## Links\n",
    "<ul>\n",
    "    <li><a href=\"https://dataverse.harvard.edu/dataset.xhtml?persistentId=doi:10.7910/DVN/T0HSJ1\">Galton Dataset</a></li>\n",
    "</ul>"
   ]
  },
  {
   "cell_type": "markdown",
   "id": "8465a90f-e95f-4298-834e-205803d12eaf",
   "metadata": {},
   "source": [
    "## Importing Libraries and Loading Data\n",
    "\n",
    "Using the Pandas library to read the .dta stata file. Make sure to fix any errors with the dataset that will cause you problems down the line!"
   ]
  },
  {
   "cell_type": "code",
   "execution_count": 1,
   "id": "44af781a-c44a-460b-9fa8-eb9b522bc71a",
   "metadata": {},
   "outputs": [],
   "source": [
    "import numpy as np\n",
    "import pandas as pd\n",
    "from IPython.display import display\n",
    "import matplotlib.pyplot as plt\n",
    "import joblib\n",
    "from scipy import stats\n",
    "from sklearn.linear_model import LinearRegression, Ridge\n",
    "from sklearn.neighbors import KNeighborsRegressor\n",
    "from sklearn.model_selection import train_test_split, GridSearchCV, cross_val_score\n",
    "from sklearn.impute import SimpleImputer\n",
    "from sklearn.preprocessing import StandardScaler, FunctionTransformer\n",
    "from sklearn.pipeline import Pipeline, make_pipeline\n",
    "from sklearn.compose import ColumnTransformer, TransformedTargetRegressor\n",
    "from sklearn.tree import DecisionTreeRegressor\n",
    "from sklearn.metrics import mean_squared_error\n",
    "from sklearn.svm import LinearSVR"
   ]
  },
  {
   "cell_type": "code",
   "execution_count": 2,
   "id": "144d08f6-b3ca-4c25-bcd6-7e433d97dfa9",
   "metadata": {
    "scrolled": true
   },
   "outputs": [
    {
     "data": {
      "text/html": [
       "<div>\n",
       "<style scoped>\n",
       "    .dataframe tbody tr th:only-of-type {\n",
       "        vertical-align: middle;\n",
       "    }\n",
       "\n",
       "    .dataframe tbody tr th {\n",
       "        vertical-align: top;\n",
       "    }\n",
       "\n",
       "    .dataframe thead th {\n",
       "        text-align: right;\n",
       "    }\n",
       "</style>\n",
       "<table border=\"1\" class=\"dataframe\">\n",
       "  <thead>\n",
       "    <tr style=\"text-align: right;\">\n",
       "      <th></th>\n",
       "      <th>family</th>\n",
       "      <th>father</th>\n",
       "      <th>mother</th>\n",
       "      <th>gender</th>\n",
       "      <th>height</th>\n",
       "      <th>kids</th>\n",
       "      <th>male</th>\n",
       "      <th>female</th>\n",
       "    </tr>\n",
       "  </thead>\n",
       "  <tbody>\n",
       "    <tr>\n",
       "      <th>0</th>\n",
       "      <td>1</td>\n",
       "      <td>78.5</td>\n",
       "      <td>67.0</td>\n",
       "      <td>M</td>\n",
       "      <td>73.199997</td>\n",
       "      <td>4</td>\n",
       "      <td>1.0</td>\n",
       "      <td>0.0</td>\n",
       "    </tr>\n",
       "    <tr>\n",
       "      <th>1</th>\n",
       "      <td>1</td>\n",
       "      <td>78.5</td>\n",
       "      <td>67.0</td>\n",
       "      <td>F</td>\n",
       "      <td>69.199997</td>\n",
       "      <td>4</td>\n",
       "      <td>0.0</td>\n",
       "      <td>1.0</td>\n",
       "    </tr>\n",
       "    <tr>\n",
       "      <th>2</th>\n",
       "      <td>1</td>\n",
       "      <td>78.5</td>\n",
       "      <td>67.0</td>\n",
       "      <td>F</td>\n",
       "      <td>69.000000</td>\n",
       "      <td>4</td>\n",
       "      <td>0.0</td>\n",
       "      <td>1.0</td>\n",
       "    </tr>\n",
       "    <tr>\n",
       "      <th>3</th>\n",
       "      <td>1</td>\n",
       "      <td>78.5</td>\n",
       "      <td>67.0</td>\n",
       "      <td>F</td>\n",
       "      <td>69.000000</td>\n",
       "      <td>4</td>\n",
       "      <td>0.0</td>\n",
       "      <td>1.0</td>\n",
       "    </tr>\n",
       "    <tr>\n",
       "      <th>4</th>\n",
       "      <td>2</td>\n",
       "      <td>75.5</td>\n",
       "      <td>66.5</td>\n",
       "      <td>M</td>\n",
       "      <td>73.500000</td>\n",
       "      <td>4</td>\n",
       "      <td>1.0</td>\n",
       "      <td>0.0</td>\n",
       "    </tr>\n",
       "  </tbody>\n",
       "</table>\n",
       "</div>"
      ],
      "text/plain": [
       "  family  father  mother gender     height  kids  male  female\n",
       "0      1    78.5    67.0      M  73.199997     4   1.0     0.0\n",
       "1      1    78.5    67.0      F  69.199997     4   0.0     1.0\n",
       "2      1    78.5    67.0      F  69.000000     4   0.0     1.0\n",
       "3      1    78.5    67.0      F  69.000000     4   0.0     1.0\n",
       "4      2    75.5    66.5      M  73.500000     4   1.0     0.0"
      ]
     },
     "metadata": {},
     "output_type": "display_data"
    }
   ],
   "source": [
    "df = pd.read_stata(\"./galton.dta\")\n",
    "\n",
    "# fix small error with data\n",
    "df.loc[890:, \"family\"] = 205\n",
    "\n",
    "display(df.head())"
   ]
  },
  {
   "cell_type": "markdown",
   "id": "a2792b68-1541-44a1-a1bc-8cae6d8ce4fc",
   "metadata": {},
   "source": [
    "## Exploring the Data (BRIEFLY)\n",
    "\n",
    "Checking out the dataset BEFORE creating the test set. Doing so allows you to gain a basic understanding of the data you're working with. \n",
    "\n",
    "However, analyzing the entire dataset before creating your test set for too long will increase the risk of <i>data snooping bias</i>, which is when you detect patterns and implement a model that overfits the dataset, but doesn't generalize well!"
   ]
  },
  {
   "cell_type": "code",
   "execution_count": 3,
   "id": "53b2b7c5-5b7b-47eb-bfd5-694873501ce4",
   "metadata": {
    "scrolled": true
   },
   "outputs": [
    {
     "data": {
      "image/png": "[encoded data removed]",
      "text/plain": [
       "<Figure size 400x300 with 6 Axes>"
      ]
     },
     "metadata": {},
     "output_type": "display_data"
    }
   ],
   "source": [
    "# inspect distributions\n",
    "\n",
    "df_numerical = df.drop(columns=[\"gender\"])\n",
    "\n",
    "df_numerical.hist(figsize=(4,3))\n",
    "plt.show()"
   ]
  },
  {
   "cell_type": "markdown",
   "id": "f279bc70-527f-488d-a5e7-6af9850868d4",
   "metadata": {},
   "source": [
    "## Setting aside a Test Set\n",
    "Since this is a relatively small dataset, sampling randomly runs the risk of introducing significant sampling bias. For example, randomly sampling mostly men instead of an even distribution of men and women. Same thing goes for heights.\n",
    "\n",
    "To make sure the training and test sets are representative of the entire dataset, we will employ <b>stratified sampling</b>, which is the process of partitioning the population into groups called <i>strata</i> and ensuring each dataset (train and test) contains enough of each strata. Luckily, scikit-learn can do this for us! We will stratify the gender, father, and mother features because they are important for our model."
   ]
  },
  {
   "cell_type": "code",
   "execution_count": 4,
   "id": "2dfe476a-e29b-494d-8ce8-3ccdebb0e562",
   "metadata": {},
   "outputs": [],
   "source": [
    "def get_bins(min_val, max_val, num_bins=4):\n",
    "    bins = [0]\n",
    "    bins.extend([(i * ((max_val - min_val) / num_bins) + min_val) for i in range(1, num_bins)])\n",
    "    bins.append(np.inf)\n",
    "    return bins\n",
    "\n",
    "df[\"father_height_cat\"] = pd.cut(df[\"father\"], bins=get_bins(min(df.father), max(df.father)), labels=[1,2,3,4])\n",
    "df[\"mother_height_cat\"] = pd.cut(df[\"mother\"], bins=get_bins(min(df.mother), max(df.mother)), labels=[1,2,3,4])\n",
    "\n",
    "# combine all stratified columns into one column\n",
    "df[\"fhc_mhc_ml\"] = df[\"father_height_cat\"].astype('str') + '_' + df[\"mother_height_cat\"].astype('str') + '_' + df[\"male\"].astype('str')\n",
    "\n",
    "# stratify\n",
    "train, test = train_test_split(df, test_size=0.2, stratify=df[\"fhc_mhc_ml\"], random_state=3)\n",
    "\n",
    "# drop the cat columns - they were only used for stratification\n",
    "for set_ in [df, train, test]:\n",
    "    set_.drop(columns=[\"father_height_cat\", \"mother_height_cat\", \"fhc_mhc_ml\"], inplace=True)"
   ]
  },
  {
   "cell_type": "markdown",
   "id": "ce114d85-5f65-4870-97ab-5ba49a76aeae",
   "metadata": {},
   "source": [
    "## Further Exploration\n",
    "\n",
    "After setting aside the test set, you can explore the training set as much as you want.\n",
    "\n",
    "I want to gain a better understanding of which features correlate well with the (offspring) height. So, I created a correlation matrix and indexed into the \"height\" column, which provides a Pandas series quantifying how well each feature correlates with the offspring height.\n",
    "\n",
    "As expected, the father height, mother height, and gender all have a clear relationship with the offspring height."
   ]
  },
  {
   "cell_type": "code",
   "execution_count": 5,
   "id": "bad84465-c73c-42c4-a9b7-ede40ad0a17b",
   "metadata": {},
   "outputs": [
    {
     "data": {
      "text/plain": [
       "height    1.000000\n",
       "male      0.714258\n",
       "father    0.275355\n",
       "mother    0.201655\n",
       "kids     -0.126910\n",
       "family   -0.284867\n",
       "female   -0.714258\n",
       "Name: height, dtype: float64"
      ]
     },
     "execution_count": 5,
     "metadata": {},
     "output_type": "execute_result"
    }
   ],
   "source": [
    "corr_matrix = df_numerical.corr()\n",
    "\n",
    "corr_matrix[\"height\"].sort_values(ascending=False)"
   ]
  },
  {
   "cell_type": "markdown",
   "id": "5b78a7a3-1b01-4ed9-a6e9-33b5b5093dcb",
   "metadata": {},
   "source": [
    "## Preprocessing\n",
    "\n",
    "Preprocessing training data involves (a) handling erroneous datapoints and (b) making the data more amenable to ML algorithms.\n",
    "\n",
    "Luckily, this dataset doesn't have any erroneous datapoints, so missing data handling will not be necessary! \n",
    "\n",
    "However, as seen by the plots above, some of the feature distributions have heavy tails and don't exhibit a nice normal bell curve, which most ML algorithms work best with. So, we will need to apply some transformations to each feature to make sure it exhibits a nice bell curve. Sometimes, this isn't possible, in which case other strategies will be needed (Guassian RBF for multimodal, bucketizing, etc.). The one-hot encoded male and female features will not need to be transformed.\n",
    "\n",
    "Additionally, the features are scaled differently. For example, the Male and Female features are one-hot encoded. However, the height features are measured in inches, so they are an order of magnitude larger than the Male and Female features! This will cause (most) ML algorithms to overreact to changes in height, but underreact to changes in gender. Thus, to make sure all the features are considered equally, they will need to be scaled to be within the same order of magnitude. In this case, we want to scale the heights to be within -1 and 1 (with exception of outliers).\n",
    "\n",
    "Scikit-learn makes preprocessing easy with their pipelines feature."
   ]
  },
  {
   "cell_type": "code",
   "execution_count": 6,
   "id": "5478deb6-8fca-4ca1-a9c6-7ce13570c22c",
   "metadata": {},
   "outputs": [],
   "source": [
    "father_heights_pipeline = make_pipeline(\n",
    "    FunctionTransformer(np.sqrt, feature_names_out=\"one-to-one\"),\n",
    "    StandardScaler())\n",
    "\n",
    "def powerOfFour(A):\n",
    "    return np.power(A, 4)\n",
    "\n",
    "mother_heights_pipeline = make_pipeline(\n",
    "    FunctionTransformer(powerOfFour, feature_names_out=\"one-to-one\"),\n",
    "    StandardScaler())\n",
    "\n",
    "preprocessing = ColumnTransformer([\n",
    "    (\"father\", father_heights_pipeline, [\"father\"]),\n",
    "    (\"mother\", mother_heights_pipeline, [\"mother\"]),\n",
    "    (\"pass\", \"passthrough\", [\"male\", \"female\"])]\n",
    ")"
   ]
  },
  {
   "cell_type": "markdown",
   "id": "811a8a77-7e5b-44c7-9860-641a2c3a0cd9",
   "metadata": {},
   "source": [
    "## Training and Validation\n",
    "\n",
    "Here, I select a couple of ML algorithms and build some models. I evaluate the performance of each model using the scikit-learn's cross validation score, which essentially creates 10 validation/training set pairs within the training set to test the model against. This way, I can tell whether the model is overfitting its training set or underfitting.\n",
    "\n",
    "I can also tell how consistent the model is by looking at the standard deviation of its error across all 10 tests."
   ]
  },
  {
   "cell_type": "markdown",
   "id": "44f0e4c4-8b0b-47e9-9fc9-2db4b0293157",
   "metadata": {},
   "source": [
    "### Linear Regression\n",
    "\n",
    "As seen by the low standard deviation, the linear regression model is able to consistently generalize well to the validation set. However, it is a very simple model that is prone to underfitting, which could explain why it is 2.2 inches off on average."
   ]
  },
  {
   "cell_type": "markdown",
   "id": "150b1451-cebf-43ff-975f-a36938d95f1a",
   "metadata": {},
   "source": [
    "### Decision Tree Regression\n",
    "\n",
    "Decision Tree Regression is a powerful ML algorithm that can capture much more complex relationships than linear regression. However it is prone to overfitting.\n",
    "\n",
    "Overfitting is clearly exhibited because when the model is predicting on data that it has already seen the error is much better than linear regression (1.7 inches off on average). However, when the model has to generalize to a validation set, it is 2.48 inches off on average, which means it overfits to its training set. "
   ]
  },
  {
   "cell_type": "markdown",
   "id": "3d9c2d76-fd21-47de-a50b-778c672c96ed",
   "metadata": {},
   "source": [
    "### K-Nearest Neighbors\n",
    "\n",
    "K-Nearest Neighbors is a simple yet powerful ML algorithm that can also capture complex relationships in data.\n",
    "\n",
    "Just like with Tree Regression, it performs very well on data it has already seen. The mean squared error when tested on its training set is is 1.97 inches off on average. However, it too is prone to overfitting. As seen by the cross validation scores, the KNN model cannot generalize to the validation set. It performs slightly better than Tree Regression, but not as well as Linear Regression."
   ]
  },
  {
   "cell_type": "markdown",
   "id": "e647209f-98e8-4cb4-aeb1-e892e59a7b3c",
   "metadata": {},
   "source": [
    "### SVM and Ridge Regression\n",
    "\n",
    "Similar to Linear Regression, Ridge Regression contains hyperparameters that enable you to fine-tune your model. As a result, its performance is very similar to Linear Regression. SVM is different from linear regression, but it provides close to the same performance."
   ]
  },
  {
   "cell_type": "code",
   "execution_count": 7,
   "id": "90fb393f-4b50-49ab-b95c-4ecab84c2429",
   "metadata": {
    "scrolled": true
   },
   "outputs": [
    {
     "name": "stdout",
     "output_type": "stream",
     "text": [
      "--------------------\n",
      "TESTING LinearRegression()\n",
      "MSE on seen data: 2.2004642486572266\n",
      "Cross Validation Score:\n"
     ]
    },
    {
     "data": {
      "text/plain": [
       "count    10.000000\n",
       "mean      2.204155\n",
       "std       0.215076\n",
       "min       1.980553\n",
       "25%       2.036608\n",
       "50%       2.135471\n",
       "75%       2.327788\n",
       "max       2.649221\n",
       "dtype: float64"
      ]
     },
     "metadata": {},
     "output_type": "display_data"
    },
    {
     "name": "stdout",
     "output_type": "stream",
     "text": [
      "--------------------\n",
      "TESTING DecisionTreeRegressor(random_state=3)\n",
      "MSE on seen data: 1.737262298542847\n",
      "Cross Validation Score:\n"
     ]
    },
    {
     "data": {
      "text/plain": [
       "count    10.000000\n",
       "mean      2.478568\n",
       "std       0.143765\n",
       "min       2.339776\n",
       "25%       2.393215\n",
       "50%       2.455047\n",
       "75%       2.506647\n",
       "max       2.841381\n",
       "dtype: float64"
      ]
     },
     "metadata": {},
     "output_type": "display_data"
    },
    {
     "name": "stdout",
     "output_type": "stream",
     "text": [
      "--------------------\n",
      "TESTING KNeighborsRegressor(n_neighbors=10)\n",
      "MSE on seen data: 2.082166910171509\n",
      "Cross Validation Score:\n"
     ]
    },
    {
     "data": {
      "text/plain": [
       "count    10.000000\n",
       "mean      2.298971\n",
       "std       0.195939\n",
       "min       2.071115\n",
       "25%       2.211413\n",
       "50%       2.246456\n",
       "75%       2.403944\n",
       "max       2.713177\n",
       "dtype: float64"
      ]
     },
     "metadata": {},
     "output_type": "display_data"
    },
    {
     "name": "stdout",
     "output_type": "stream",
     "text": [
      "--------------------\n",
      "TESTING LinearSVR()\n",
      "MSE on seen data: 2.2022349509697015\n",
      "Cross Validation Score:\n"
     ]
    },
    {
     "data": {
      "text/plain": [
       "count    10.000000\n",
       "mean      2.213325\n",
       "std       0.217648\n",
       "min       1.993576\n",
       "25%       2.050281\n",
       "50%       2.136479\n",
       "75%       2.336300\n",
       "max       2.676751\n",
       "dtype: float64"
      ]
     },
     "metadata": {},
     "output_type": "display_data"
    },
    {
     "name": "stdout",
     "output_type": "stream",
     "text": [
      "--------------------\n",
      "TESTING Ridge(alpha=0.5)\n",
      "MSE on seen data: 2.200467348098755\n",
      "Cross Validation Score:\n"
     ]
    },
    {
     "data": {
      "text/plain": [
       "count    10.000000\n",
       "mean      2.205087\n",
       "std       0.214743\n",
       "min       1.980693\n",
       "25%       2.035959\n",
       "50%       2.140928\n",
       "75%       2.328505\n",
       "max       2.648485\n",
       "dtype: float64"
      ]
     },
     "metadata": {},
     "output_type": "display_data"
    }
   ],
   "source": [
    "def validate(algorithm): \n",
    "    model = make_pipeline(preprocessing, algorithm)\n",
    "    model.fit(train, labels)\n",
    "    print(\"-\"*20)\n",
    "    print(f\"TESTING {algorithm}\")\n",
    "    print(f\"MSE on seen data: {mean_squared_error(labels, model.predict(train), squared=False)}\")\n",
    "    print(\"Cross Validation Score:\")\n",
    "    rmses = -cross_val_score(model, train, labels, scoring=\"neg_root_mean_squared_error\", cv=10)\n",
    "    display(pd.Series(rmses).describe())\n",
    "\n",
    "labels = train.height\n",
    "\n",
    "for alg in [LinearRegression(), DecisionTreeRegressor(random_state=3), KNeighborsRegressor(10), LinearSVR(), Ridge(0.5)]:\n",
    "    validate(alg)"
   ]
  },
  {
   "cell_type": "markdown",
   "id": "624ffbd1-174a-40eb-9cbd-7452d3041b74",
   "metadata": {},
   "source": [
    "### Shortlisting the Best and Fine-Tuning\n",
    "\n",
    "After training and validating at a variety of models, I've decided to shortlist Linear Regression, Ridge, and SVM, as they generalize very well to the validation sets. While Linear Regression has no hyperparameters to play with, Ridge and SVM do. So, I can perform a grid search on a few parameter values and see which combination of hyperparameters works best! Luckily scikit-learn provides functionality for this."
   ]
  },
  {
   "cell_type": "code",
   "execution_count": 8,
   "id": "db0c9f55-f435-408d-ab20-19de3f887026",
   "metadata": {
    "scrolled": true
   },
   "outputs": [
    {
     "name": "stdout",
     "output_type": "stream",
     "text": [
      "--------------------\n",
      "TUNING LinearSVR()\n"
     ]
    },
    {
     "data": {
      "text/html": [
       "<div>\n",
       "<style scoped>\n",
       "    .dataframe tbody tr th:only-of-type {\n",
       "        vertical-align: middle;\n",
       "    }\n",
       "\n",
       "    .dataframe tbody tr th {\n",
       "        vertical-align: top;\n",
       "    }\n",
       "\n",
       "    .dataframe thead th {\n",
       "        text-align: right;\n",
       "    }\n",
       "</style>\n",
       "<table border=\"1\" class=\"dataframe\">\n",
       "  <thead>\n",
       "    <tr style=\"text-align: right;\">\n",
       "      <th></th>\n",
       "      <th>param_linearsvr__epsilon</th>\n",
       "      <th>param_linearsvr__tol</th>\n",
       "      <th>param_linearsvr__C</th>\n",
       "      <th>param_linearsvr__max_iter</th>\n",
       "      <th>mean_test_score</th>\n",
       "    </tr>\n",
       "  </thead>\n",
       "  <tbody>\n",
       "    <tr>\n",
       "      <th>3</th>\n",
       "      <td>0.0</td>\n",
       "      <td>0.0005</td>\n",
       "      <td>2.0</td>\n",
       "      <td>5000</td>\n",
       "      <td>2.212406</td>\n",
       "    </tr>\n",
       "    <tr>\n",
       "      <th>24</th>\n",
       "      <td>0.0</td>\n",
       "      <td>0.001</td>\n",
       "      <td>1.0</td>\n",
       "      <td>5000</td>\n",
       "      <td>2.212408</td>\n",
       "    </tr>\n",
       "    <tr>\n",
       "      <th>11</th>\n",
       "      <td>0.0</td>\n",
       "      <td>0.00005</td>\n",
       "      <td>1.5</td>\n",
       "      <td>5000</td>\n",
       "      <td>2.214545</td>\n",
       "    </tr>\n",
       "    <tr>\n",
       "      <th>10</th>\n",
       "      <td>0.0</td>\n",
       "      <td>0.00001</td>\n",
       "      <td>1.5</td>\n",
       "      <td>5000</td>\n",
       "      <td>2.214602</td>\n",
       "    </tr>\n",
       "    <tr>\n",
       "      <th>12</th>\n",
       "      <td>0.0</td>\n",
       "      <td>0.0001</td>\n",
       "      <td>1.5</td>\n",
       "      <td>5000</td>\n",
       "      <td>2.214682</td>\n",
       "    </tr>\n",
       "  </tbody>\n",
       "</table>\n",
       "</div>"
      ],
      "text/plain": [
       "   param_linearsvr__epsilon param_linearsvr__tol param_linearsvr__C  \\\n",
       "3                       0.0               0.0005                2.0   \n",
       "24                      0.0                0.001                1.0   \n",
       "11                      0.0              0.00005                1.5   \n",
       "10                      0.0              0.00001                1.5   \n",
       "12                      0.0               0.0001                1.5   \n",
       "\n",
       "   param_linearsvr__max_iter  mean_test_score  \n",
       "3                       5000         2.212406  \n",
       "24                      5000         2.212408  \n",
       "11                      5000         2.214545  \n",
       "10                      5000         2.214602  \n",
       "12                      5000         2.214682  "
      ]
     },
     "metadata": {},
     "output_type": "display_data"
    },
    {
     "name": "stdout",
     "output_type": "stream",
     "text": [
      "--------------------\n",
      "TUNING Ridge()\n"
     ]
    },
    {
     "data": {
      "text/html": [
       "<div>\n",
       "<style scoped>\n",
       "    .dataframe tbody tr th:only-of-type {\n",
       "        vertical-align: middle;\n",
       "    }\n",
       "\n",
       "    .dataframe tbody tr th {\n",
       "        vertical-align: top;\n",
       "    }\n",
       "\n",
       "    .dataframe thead th {\n",
       "        text-align: right;\n",
       "    }\n",
       "</style>\n",
       "<table border=\"1\" class=\"dataframe\">\n",
       "  <thead>\n",
       "    <tr style=\"text-align: right;\">\n",
       "      <th></th>\n",
       "      <th>param_ridge__alpha</th>\n",
       "      <th>mean_test_score</th>\n",
       "    </tr>\n",
       "  </thead>\n",
       "  <tbody>\n",
       "    <tr>\n",
       "      <th>3</th>\n",
       "      <td>1.0</td>\n",
       "      <td>2.208531</td>\n",
       "    </tr>\n",
       "    <tr>\n",
       "      <th>4</th>\n",
       "      <td>2.0</td>\n",
       "      <td>2.208544</td>\n",
       "    </tr>\n",
       "    <tr>\n",
       "      <th>2</th>\n",
       "      <td>0.5</td>\n",
       "      <td>2.208546</td>\n",
       "    </tr>\n",
       "    <tr>\n",
       "      <th>1</th>\n",
       "      <td>0.2</td>\n",
       "      <td>2.208561</td>\n",
       "    </tr>\n",
       "    <tr>\n",
       "      <th>0</th>\n",
       "      <td>0.1</td>\n",
       "      <td>2.208567</td>\n",
       "    </tr>\n",
       "  </tbody>\n",
       "</table>\n",
       "</div>"
      ],
      "text/plain": [
       "  param_ridge__alpha  mean_test_score\n",
       "3                1.0         2.208531\n",
       "4                2.0         2.208544\n",
       "2                0.5         2.208546\n",
       "1                0.2         2.208561\n",
       "0                0.1         2.208567"
      ]
     },
     "metadata": {},
     "output_type": "display_data"
    },
    {
     "name": "stdout",
     "output_type": "stream",
     "text": [
      "--------------------\n",
      "TUNING LinearRegression()\n"
     ]
    },
    {
     "data": {
      "text/html": [
       "<div>\n",
       "<style scoped>\n",
       "    .dataframe tbody tr th:only-of-type {\n",
       "        vertical-align: middle;\n",
       "    }\n",
       "\n",
       "    .dataframe tbody tr th {\n",
       "        vertical-align: top;\n",
       "    }\n",
       "\n",
       "    .dataframe thead th {\n",
       "        text-align: right;\n",
       "    }\n",
       "</style>\n",
       "<table border=\"1\" class=\"dataframe\">\n",
       "  <thead>\n",
       "    <tr style=\"text-align: right;\">\n",
       "      <th></th>\n",
       "      <th>mean_test_score</th>\n",
       "    </tr>\n",
       "  </thead>\n",
       "  <tbody>\n",
       "    <tr>\n",
       "      <th>0</th>\n",
       "      <td>2.208534</td>\n",
       "    </tr>\n",
       "  </tbody>\n",
       "</table>\n",
       "</div>"
      ],
      "text/plain": [
       "   mean_test_score\n",
       "0         2.208534"
      ]
     },
     "metadata": {},
     "output_type": "display_data"
    }
   ],
   "source": [
    "def tune(algorithm, param_grid):\n",
    "    print(\"-\"*20)\n",
    "    print(f\"TUNING {algorithm}\")\n",
    "    pipeline = Pipeline([(\"preprocessing\", preprocessing), (\"algorithm\", algorithm)])\n",
    "    grid_search = GridSearchCV(make_pipeline(preprocessing, algorithm), param_grid, cv=3, scoring='neg_root_mean_squared_error')\n",
    "    grid_search.fit(train, labels)\n",
    "    results = pd.DataFrame(grid_search.cv_results_)\n",
    "    params = [f\"param_{i}\" for i in param_grid.keys()]\n",
    "    params.append(\"mean_test_score\")\n",
    "    results.sort_values(by=\"mean_test_score\", ascending=False, inplace=True)\n",
    "    results.mean_test_score = results.mean_test_score * -1\n",
    "    display(results[params].head())\n",
    "\n",
    "tuning_params = [\n",
    "    (LinearSVR(), {\n",
    "        \"linearsvr__epsilon\": [0.0, 1.0],\n",
    "        \"linearsvr__tol\": [0.00001, 0.00005, 0.0001, 0.0005, 0.001],\n",
    "        \"linearsvr__C\": [2.0, 1.5, 1.0, 0.75, 0.5, 0.25, 0.1],\n",
    "        \"linearsvr__max_iter\": [5000]}),\n",
    "    (Ridge(), {\n",
    "        \"ridge__alpha\": [0.1, 0.2, 0.5, 1.0, 2.0, 5.0, 10.0]}),\n",
    "    (LinearRegression(), {})\n",
    "]\n",
    "\n",
    "for alg, params in tuning_params:\n",
    "    tune(alg, params)"
   ]
  },
  {
   "cell_type": "markdown",
   "id": "1b743450-068a-447e-99b0-fdbe50ee6d70",
   "metadata": {},
   "source": [
    "## Evaluating on the Test Set\n",
    "\n",
    "The best fine-tuned model is Ridge Regression with an alpha of 1.0! After sufficient fine tuning, you can see evaluate it on the test set."
   ]
  },
  {
   "cell_type": "code",
   "execution_count": 9,
   "id": "6b1e8ca8-28c2-4c9e-aa95-ff9b00f384d9",
   "metadata": {},
   "outputs": [
    {
     "name": "stdout",
     "output_type": "stream",
     "text": [
      "Error: 1.9345074892044067\n",
      "\n",
      "95% Confidence Interval: 1.7202299130806096 - 2.1273099767291\n"
     ]
    }
   ],
   "source": [
    "test_features = test\n",
    "test_labels = test.loc[:, \"height\"].copy()\n",
    "\n",
    "final_model = make_pipeline(preprocessing, Ridge(alpha=1.0))\n",
    "final_model.fit(train, labels)\n",
    "final_predictions = final_model.predict(test_features)\n",
    "\n",
    "final_rmse = mean_squared_error(test_labels, final_predictions, squared=False)\n",
    "\n",
    "print(f\"Error: {final_rmse}\")\n",
    "print()\n",
    "squared_errors = (final_predictions - test_labels) ** 2\n",
    "confidence_interval = np.sqrt(stats.t.interval(0.95, len(squared_errors) - 1, \n",
    "    loc=squared_errors.mean(), scale=stats.sem(squared_errors)))\n",
    "print(f\"95% Confidence Interval: {confidence_interval[0]} - {confidence_interval[1]}\")"
   ]
  },
  {
   "cell_type": "markdown",
   "id": "02bd1e91-306c-42b2-93fc-f82ccdbabbdc",
   "metadata": {},
   "source": [
    "## Deploying it in the Wild\n",
    "\n",
    "A model within ~2 inches 95% of the time is pretty good! For deploying it in the wild, let's test it on myself.\n",
    "\n",
    "Let's also save it as a .pkl file, so we can use it elsewhere."
   ]
  },
  {
   "cell_type": "code",
   "execution_count": 10,
   "id": "59809d92-1b5d-4058-929b-d02fac004bad",
   "metadata": {},
   "outputs": [
    {
     "data": {
      "text/plain": [
       "['model.joblib']"
      ]
     },
     "execution_count": 10,
     "metadata": {},
     "output_type": "execute_result"
    }
   ],
   "source": [
    "# Testing model on my height\n",
    "\n",
    "my_data = pd.DataFrame({'family': [206], 'father': [66], 'mother': [66.5], 'gender': ['M'], 'height': [68], \n",
    "                        'kids': [2], 'male': [1.0], 'female': [0.0]})\n",
    "\n",
    "final_model.predict(my_data)[0]\n",
    "\n",
    "joblib.dump(final_model, \"model.joblib\")"
   ]
  },
  {
   "cell_type": "markdown",
   "id": "29c69c26-c10a-492c-9710-02d9a4307ee1",
   "metadata": {},
   "source": [
    "(I'm about 68.5\", so the model was pretty accurate for me!)"
   ]
  }
 ],
 "metadata": {
  "kernelspec": {
   "display_name": "Python 3 (ipykernel)",
   "language": "python",
   "name": "python3"
  },
  "language_info": {
   "codemirror_mode": {
    "name": "ipython",
    "version": 3
   },
   "file_extension": ".py",
   "mimetype": "text/x-python",
   "name": "python",
   "nbconvert_exporter": "python",
   "pygments_lexer": "ipython3",
   "version": "3.10.11"
  }
 },
 "nbformat": 4,
 "nbformat_minor": 5
}
